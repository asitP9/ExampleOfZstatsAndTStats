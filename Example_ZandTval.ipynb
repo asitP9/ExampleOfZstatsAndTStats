{
 "cells": [
  {
   "cell_type": "markdown",
   "id": "a078340d",
   "metadata": {},
   "source": [
    "## Suppose that we want to hypothesize that the mean number of TV hours watched per week is 28.5; we’ll define this as our null hypothesis, Ho. Let’s also assume that we only have access to a subset of household data (i.e. a sample), x,"
   ]
  },
  {
   "cell_type": "code",
   "execution_count": 18,
   "id": "e329b414",
   "metadata": {},
   "outputs": [],
   "source": [
    "import math\n",
    "import numpy as np\n",
    "import scipy.stats as st"
   ]
  },
  {
   "cell_type": "code",
   "execution_count": 7,
   "id": "ef7adf84",
   "metadata": {},
   "outputs": [],
   "source": [
    "x = [25.7, 38.5, 29.3, 25.1, 30.6, 34.6, 30.0, 39.0, 33.7, 31.6,25.9, 34.4, 26.9, 23.0, 31.1, 29.3, 34.5, 35.1, 31.2, 33.2,30.2\n",
    "     , 36.4, 37.5, 27.6, 24.6, 23.9, 27.0, 29.5, 30.1, 29.6,27.3, 31.2, 32.5, 25.7, 30.1, 24.2, 24.1, 26.4, 31.0, 20.7,33.5, \n",
    "     32.2, 34.7, 32.6, 33.5, 32.7, 25.6, 31.1, 32.9, 25.9]"
   ]
  },
  {
   "cell_type": "markdown",
   "id": "1fb77214",
   "metadata": {},
   "source": [
    "## Calculate sample mean and sample standard deviation"
   ]
  },
  {
   "cell_type": "code",
   "execution_count": 27,
   "id": "d188873c",
   "metadata": {},
   "outputs": [
    {
     "name": "stdout",
     "output_type": "stream",
     "text": [
      "Sample : Mean is 30.14 and std dev is 0.59\n"
     ]
    }
   ],
   "source": [
    "sample_mean=np.mean(x)\n",
    "sample_stddev=np.std(x)/math.sqrt(len(x))\n",
    "print(\"Sample : Mean is {:.2f} and std dev is {:.2f}\".format(sample_mean, sample_stddev))"
   ]
  },
  {
   "cell_type": "code",
   "execution_count": 15,
   "id": "260c775c",
   "metadata": {},
   "outputs": [],
   "source": [
    "H0=28.5"
   ]
  },
  {
   "cell_type": "markdown",
   "id": "e456ad7f",
   "metadata": {},
   "source": [
    "## Solving using Z Stats"
   ]
  },
  {
   "cell_type": "markdown",
   "id": "906fe2f2",
   "metadata": {},
   "source": [
    "### In computing the z-statistic, the SE used is not the standard error of the observed data, but the standard error for the null hypothesis. To be more precise, the SE in this formula is computed from the null’s SD, if given. However, in many cases (such as in this working example) the null’s SD can only be estimated from the observed data’s SD."
   ]
  },
  {
   "cell_type": "code",
   "execution_count": 16,
   "id": "e40ac199",
   "metadata": {},
   "outputs": [],
   "source": [
    "z=(sample_mean-H0)/sample_stddev"
   ]
  },
  {
   "cell_type": "code",
   "execution_count": 17,
   "id": "e0bd2fbc",
   "metadata": {},
   "outputs": [
    {
     "data": {
      "text/plain": [
       "2.764376507408691"
      ]
     },
     "execution_count": 17,
     "metadata": {},
     "output_type": "execute_result"
    }
   ],
   "source": [
    "z"
   ]
  },
  {
   "cell_type": "code",
   "execution_count": 19,
   "id": "88ec6679",
   "metadata": {},
   "outputs": [],
   "source": [
    "P_H0=st.norm.cdf(z)"
   ]
  },
  {
   "cell_type": "code",
   "execution_count": 20,
   "id": "ba7d5a7b",
   "metadata": {},
   "outputs": [
    {
     "data": {
      "text/plain": [
       "0.9971484154813193"
      ]
     },
     "execution_count": 20,
     "metadata": {},
     "output_type": "execute_result"
    }
   ],
   "source": [
    "P_H0"
   ]
  },
  {
   "cell_type": "code",
   "execution_count": 24,
   "id": "6c3555fd",
   "metadata": {},
   "outputs": [
    {
     "name": "stdout",
     "output_type": "stream",
     "text": [
      "0.28515845186807276 %\n"
     ]
    }
   ],
   "source": [
    "print((1-P_H0)*100 , \"%\")"
   ]
  },
  {
   "cell_type": "markdown",
   "id": "dda8dccc",
   "metadata": {},
   "source": [
    "### if the value is less then 5% then we reject the null hypothesis\n",
    "so the difference between the sample mean and population mean is significant enough, so people watch <b>more than</b> 28.5 hrs of TV per week"
   ]
  },
  {
   "cell_type": "markdown",
   "id": "4aad47fa",
   "metadata": {},
   "source": [
    "## Solving for T stats"
   ]
  },
  {
   "cell_type": "code",
   "execution_count": 41,
   "id": "fca3308b",
   "metadata": {},
   "outputs": [],
   "source": [
    "x2=[25.7, 38.5, 29.3, 25.1, 30.6, 34.6, 30.0, 39.0, 33.7]"
   ]
  },
  {
   "cell_type": "code",
   "execution_count": 42,
   "id": "4e9de566",
   "metadata": {},
   "outputs": [],
   "source": [
    "H0=28.5"
   ]
  },
  {
   "cell_type": "code",
   "execution_count": 51,
   "id": "63cf23e8",
   "metadata": {},
   "outputs": [
    {
     "name": "stdout",
     "output_type": "stream",
     "text": [
      "Sample : Mean is 31.83 and std dev is 1.58\n"
     ]
    }
   ],
   "source": [
    "sample_mean_x2=np.mean(x2)\n",
    "sample_stddev_x2=np.std(x2)/math.sqrt(len(x2))\n",
    "print(\"Sample : Mean is {:.2f} and std dev is {:.2f}\".format(sample_mean_x2, sample_stddev_x2))"
   ]
  },
  {
   "cell_type": "code",
   "execution_count": 52,
   "id": "3612464a",
   "metadata": {},
   "outputs": [],
   "source": [
    "degree_of_freedom=9"
   ]
  },
  {
   "cell_type": "markdown",
   "id": "9bd4f48f",
   "metadata": {},
   "source": [
    "## **T Value= (X-μ)/(σ/ $\\sqrt{n}$)**"
   ]
  },
  {
   "cell_type": "code",
   "execution_count": 53,
   "id": "6e02532c",
   "metadata": {},
   "outputs": [
    {
     "name": "stdout",
     "output_type": "stream",
     "text": [
      "-0.7049949593040611\n"
     ]
    }
   ],
   "source": [
    "t_val=(H0-sample_mean_x2)/sample_stddev_x2/math.sqrt(degree_of_freedom)\n",
    "print(t_val)"
   ]
  },
  {
   "cell_type": "markdown",
   "id": "322741dc",
   "metadata": {},
   "source": [
    "### Its minus above because its on the right side"
   ]
  },
  {
   "cell_type": "code",
   "execution_count": 59,
   "id": "04b39285",
   "metadata": {},
   "outputs": [
    {
     "data": {
      "text/plain": [
       "0.7595933134574111"
      ]
     },
     "execution_count": 59,
     "metadata": {},
     "output_type": "execute_result"
    }
   ],
   "source": [
    "P_H0_norm=1-st.norm.cdf(t_val)\n",
    "P_H0_norm"
   ]
  },
  {
   "cell_type": "code",
   "execution_count": 60,
   "id": "52e4ab19",
   "metadata": {},
   "outputs": [
    {
     "data": {
      "text/plain": [
       "0.7506746472420834"
      ]
     },
     "execution_count": 60,
     "metadata": {},
     "output_type": "execute_result"
    }
   ],
   "source": [
    "P_H0_t=1-st.t.cdf(t_val, df=degree_of_freedom)\n",
    "P_H0_t"
   ]
  },
  {
   "cell_type": "markdown",
   "id": "f039086b",
   "metadata": {},
   "source": [
    "### since p value is very large, therefore we accept the initial hypothesis"
   ]
  },
  {
   "cell_type": "code",
   "execution_count": null,
   "id": "396f187a",
   "metadata": {},
   "outputs": [],
   "source": []
  }
 ],
 "metadata": {
  "kernelspec": {
   "display_name": "Python 3",
   "language": "python",
   "name": "python3"
  },
  "language_info": {
   "codemirror_mode": {
    "name": "ipython",
    "version": 3
   },
   "file_extension": ".py",
   "mimetype": "text/x-python",
   "name": "python",
   "nbconvert_exporter": "python",
   "pygments_lexer": "ipython3",
   "version": "3.8.8"
  }
 },
 "nbformat": 4,
 "nbformat_minor": 5
}
